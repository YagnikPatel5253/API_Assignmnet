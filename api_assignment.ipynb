{
 "cells": [
  {
   "cell_type": "raw",
   "id": "ee8ca38a-1044-4f94-b472-3f72ecba3519",
   "metadata": {},
   "source": [
    "Question 1\n",
    "\n",
    "--> API is a set of rules and protocols that allows different software applications to communicate and interact with each other. It defines how different software components should interact, what data can be exchanged, and what operations can be performed.\n",
    "--> API used in real life is the Google Maps API. Google provides a set of APIs that allow developers to integrate Google Maps functionality into their own applications. "
   ]
  },
  {
   "cell_type": "raw",
   "id": "14daeae9-8f52-4f6a-9093-2fbfe95bf8dd",
   "metadata": {},
   "source": [
    "Question 2\n",
    "\n",
    "1) Advantages of using APIs:\n",
    "--> Modularity and Reusability: APIs promote modular development by allowing different components of an application to be developed and maintained independently.\n",
    "--> Efficiency and Productivity: APIs provide pre-built functionality and services, allowing developers to leverage existing tools, libraries, and services rather than reinventing the wheel.\n",
    "--> Ecosystem and Innovation: APIs foster the growth of developer ecosystems by encouraging collaboration and the creation of new applications and services that build upon existing platforms.\n",
    "\n",
    "2) Disadvantages of using APIs:\n",
    "--> Dependency on External Services: When relying on third-party APIs, application's functionality may be impacted if the API experiences downtime, changes its terms of use, or is discontinued. \n",
    "--> Security and Privacy Concerns: Integrating external APIs introduces potential security and privacy risks. client need to ensure that the APIs they use have robust security measures in place to protect sensitive data.\n",
    "--> Performance and Reliability: The performance and reliability of application may be affected by the performance and reliability of the APIs client rely on. If an API experiences slowdowns or outages, it can impact clients application's responsiveness and user experience."
   ]
  },
  {
   "cell_type": "raw",
   "id": "05139c1d-489e-46c5-b006-3e22cb27264c",
   "metadata": {},
   "source": [
    "Question 3\n",
    "\n",
    "--> A Web API designed to enable communication and interaction between different web-based applications over the internet.\n",
    "\n",
    "Web API:\n",
    "--> Web APIs rely on the HTTP protocol for communication, utilizing methods like GET, POST, PUT, DELETE, etc.\n",
    "--> Web standards and conventions, often using formats like JSON or XML for data exchange.\n",
    "--> Web APIs are primarily used for integration with web-based systems.\n",
    "\n",
    "API:\n",
    "--> APIs can have a broader scope, encompassing various types of interfaces for communication within a system or between different systems.\n",
    "--> They can utilize different communication protocols, not limited to web-based protocols like HTTP.\n",
    "--> APIs can be used for integration within a single application or between different systems, using various protocols and interfaces."
   ]
  },
  {
   "cell_type": "raw",
   "id": "66dcb5f7-7043-4a9e-af22-38efce48f566",
   "metadata": {},
   "source": [
    "Question 4\n",
    "\n",
    "REST Architecture:\n",
    "--> REST is an architectural style that Limited Web Compatibility: SOAP was designed with a focus on enterprise integration rather than web-centric applications.emphasizes a stateless, client-server communication model.\n",
    "--> RESTful APIs use standard HTTP methods like GET, POST, PUT, DELETE to perform operations on resources.\n",
    "--> REST APIs are lightweight, scalable, and widely used for building web services that can be easily consumed by various clients, including web browsers, mobile applications, and other systems.\n",
    "\n",
    "SOAP Architecture:\n",
    "--> SOAP is a protocol and messaging format for exchanging structured information in web services.\n",
    "--> It uses XML for message formatting and can operate over different protocols like HTTP, SMTP, or TCP.\n",
    "--> SOAP supports more complex operations and features like security, reliability, and transactional integrity.\n",
    "\n",
    "Shortcomings of SOAP:\n",
    "1) Complexity: SOAP is generally considered more complex and verbose compared to REST\n",
    "2) Performance: Due to its complexity and additional overhead, SOAP can be slower in terms of performance compared to REST.\n",
    "3) Limited Web Compatibility: SOAP was designed with a focus on enterprise integration rather than web-centric applications."
   ]
  },
  {
   "cell_type": "raw",
   "id": "14e9b09f-6e67-4412-8a02-35a0536a4e15",
   "metadata": {},
   "source": [
    "Question 5\n",
    "\n",
    "REST:\n",
    "--> Message Format: REST commonly uses lightweight data formats like JSON for message formatting.\n",
    "--> Communication Protocol: REST typically uses standard HTTP methods (GET, POST, PUT, DELETE) for communication.\n",
    "--> Complexity: REST is generally simpler and easier to use.\n",
    "--> Performance: REST is often considered faster and more efficient due to its lightweight nature.\n",
    "\n",
    "SOAP:\n",
    "--> Message Format: SOAP uses XML for message formatting.\n",
    "--> Communication Protocol: SOAP can operate over different protocols like HTTP, SMTP, or TCP.\n",
    "--> Complexity: SOAP can be more complex and verbose.\n",
    "--> Performance: SOAP can be slower and consume more resources compared to REST."
   ]
  },
  {
   "cell_type": "code",
   "execution_count": null,
   "id": "c0d830a3-233d-4d92-8bf8-c6d291b6c907",
   "metadata": {},
   "outputs": [],
   "source": []
  }
 ],
 "metadata": {
  "kernelspec": {
   "display_name": "Python 3 (ipykernel)",
   "language": "python",
   "name": "python3"
  },
  "language_info": {
   "codemirror_mode": {
    "name": "ipython",
    "version": 3
   },
   "file_extension": ".py",
   "mimetype": "text/x-python",
   "name": "python",
   "nbconvert_exporter": "python",
   "pygments_lexer": "ipython3",
   "version": "3.10.8"
  }
 },
 "nbformat": 4,
 "nbformat_minor": 5
}
